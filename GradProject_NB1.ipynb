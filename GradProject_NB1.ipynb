{
 "cells": [
  {
   "cell_type": "markdown",
   "metadata": {},
   "source": [
    "<h1> DS200A Computer Vision Assignment</h1>"
   ]
  },
  {
   "cell_type": "markdown",
   "metadata": {},
   "source": [
    "<h2>  Part One: Data Input </h2>\t\n"
   ]
  },
  {
   "cell_type": "markdown",
   "metadata": {},
   "source": [
    "<h3>  Import Statements </h3>\t\n"
   ]
  },
  {
   "cell_type": "code",
   "execution_count": 1,
   "metadata": {},
   "outputs": [],
   "source": [
    "#Import anything you need here\n",
    "import numpy as np\n",
    "import matplotlib.pyplot as plt\n",
    "import pandas as pd\n",
    "import matplotlib\n",
    "import skimage\n",
    "from skimage import data\n",
    "from skimage import io\n",
    "import os\n",
    "import cv2"
   ]
  },
  {
   "cell_type": "code",
   "execution_count": 2,
   "metadata": {},
   "outputs": [
    {
     "data": {
      "text/plain": [
       "'/home/conda/data100-final-project-2019'"
      ]
     },
     "execution_count": 2,
     "metadata": {},
     "output_type": "execute_result"
    }
   ],
   "source": [
    "cur_dir = os.getcwd()\n",
    "cur_dir"
   ]
  },
  {
   "cell_type": "markdown",
   "metadata": {},
   "source": [
    "<h4> Using the code for reference, take the given folder and create a dataframe with the picture object, and the encoding as listed below. </h4>\t\n",
    "0=Airplanes, 1=Bear, 2=Blimp, 3=Comet, 4=Crab, 5=Dog, 6=Dolphin, 7=Giraffe, 8=Goat, 9=Gorilla, 10=Kangaroo, 11=Killer-Whale, 12=Leopards, 13=Llama, 14= Penguin, 15= Porcupine, 16=Teddy-Bear, 17=Triceratops, 18=Unicorn, 19=Zebra"
   ]
  },
  {
   "cell_type": "code",
   "execution_count": 5,
   "metadata": {
    "scrolled": true
   },
   "outputs": [
    {
     "name": "stdout",
     "output_type": "stream",
     "text": [
      "Stored 'train' (DataFrame)\n",
      "Stored 'test' (DataFrame)\n"
     ]
    }
   ],
   "source": [
    "h = {\"airplanes\":0, \"bear\":1, \"blimp\":2, \"comet\":3, \"crab\":4, \"dog\":5, \"dolphin\":6, \"giraffe\":7, \"goat\":8, \"gorilla\":9,\n",
    "     \"kangaroo\":10, \"killer-whale\":11, \"leopards\":12, \"llama\":13, \"penguin\":14, \"porcupine\":15, \"teddy-bear\":16, \"triceratops\":17,\n",
    "     \"unicorn\":18, \"zebra\":19}\n",
    "def read_training_data(path):\n",
    "    res = pd.DataFrame()\n",
    "    #Fill this function out, should return a dataframe with picture object, and correct encoding\n",
    "    for dir in os.listdir(path):\n",
    "        animal_path = path + \"/\" + dir\n",
    "        if os.path.isdir(animal_path):\n",
    "            encoding = h[dir]\n",
    "            for fname in os.listdir(animal_path):\n",
    "                filepath = animal_path + \"/\" + fname\n",
    "                image = cv2.imread(filepath)\n",
    "                res = res.append({\"Pictures\": image, \"Encoding\": encoding}, ignore_index=True)\n",
    "    return res\n",
    "    \n",
    "def read_test_data(path):\n",
    "    res = pd.DataFrame()\n",
    "    for dir in os.listdir(path):\n",
    "        filepath = path + \"/\" + dir\n",
    "        image = cv2.imread(filepath)\n",
    "        \n",
    "        res = res.append({\"Pictures\": image}, ignore_index=True)\n",
    "    return res\n",
    "    \n",
    "\n",
    "train_dir = cur_dir + \"/20_categories_training/20_categories_training\"\n",
    "train = read_training_data(train_dir)\n",
    "\n",
    "test_dir = cur_dir + \"/20_Validation\"\n",
    "test = read_test_data(test_dir)\n",
    "\n",
    "%store train\n",
    "%store test"
   ]
  },
  {
   "cell_type": "code",
   "execution_count": null,
   "metadata": {},
   "outputs": [],
   "source": []
  }
 ],
 "metadata": {
  "kernelspec": {
   "display_name": "Python 3",
   "language": "python",
   "name": "python3"
  },
  "language_info": {
   "codemirror_mode": {
    "name": "ipython",
    "version": 3
   },
   "file_extension": ".py",
   "mimetype": "text/x-python",
   "name": "python",
   "nbconvert_exporter": "python",
   "pygments_lexer": "ipython3",
   "version": "3.6.9"
  }
 },
 "nbformat": 4,
 "nbformat_minor": 2
}
