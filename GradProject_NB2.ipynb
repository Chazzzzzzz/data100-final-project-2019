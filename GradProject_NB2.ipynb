{
 "cells": [
  {
   "cell_type": "markdown",
   "metadata": {},
   "source": [
    "<h1> DS200A Computer Vision Assignment</h1>"
   ]
  },
  {
   "cell_type": "markdown",
   "metadata": {},
   "source": [
    "<h2>  Part Two: Exploratory data analysis and feature extraction. </h2>\t\n"
   ]
  },
  {
   "cell_type": "markdown",
   "metadata": {},
   "source": [
    "<h5> In this section, Compute at least 15 such image features (a method for each), including the following (NOTE: At least 10 of these must be scalar features and 2 matrix-based features): (i) image size, (ii) average of the red-channel intensity, (iii) aspectratio. This will require significant explatoratory research and data analysis. The first one is already implemented for you, and the next two are pre-specified. Additional requirements specfied in pdf. </h5>"
   ]
  },
  {
   "cell_type": "code",
   "execution_count": 1,
   "metadata": {},
   "outputs": [],
   "source": [
    "%store -r train\n",
    "%store -r test"
   ]
  },
  {
   "cell_type": "code",
   "execution_count": 2,
   "metadata": {},
   "outputs": [],
   "source": [
    "%matplotlib inline\n",
    "import matplotlib.pyplot as plt\n",
    "from numpy.linalg import matrix_rank\n",
    "import numpy as np\n",
    "import cv2\n",
    "from matplotlib import pyplot as plt\n",
    "import pandas as pd"
   ]
  },
  {
   "cell_type": "code",
   "execution_count": 3,
   "metadata": {},
   "outputs": [
    {
     "data": {
      "text/plain": [
       "3.0"
      ]
     },
     "execution_count": 3,
     "metadata": {},
     "output_type": "execute_result"
    }
   ],
   "source": [
    "shape1 = []\n",
    "for i in range(train.shape[0]):\n",
    "    shape1.append(train['Pictures'][i].shape[2])\n",
    "np.mean(shape1)"
   ]
  },
  {
   "cell_type": "code",
   "execution_count": 4,
   "metadata": {},
   "outputs": [],
   "source": [
    "# Returns the pixel size of the image\n",
    "def ft0(image):\n",
    "    return [image.size]\n",
    "\n",
    "#Returns the aspect ratio of the image\n",
    "def ft1(image):\n",
    "    return [image.shape[0] / image.shape[1]]\n",
    "\n",
    "def resize(image):\n",
    "    return cv2.resize(image, (400, 340))\n",
    "\n",
    "# Returns the average of the red-channel pictures for the images\n",
    "def ft1(image):\n",
    "    return [np.mean(image, axis=(0, 1))[0]]\n",
    "\n",
    "#Returns the aspect ratio of the image\n",
    "def ft2(image):\n",
    "    return [np.mean(image, axis=(0, 1))[2]]\n",
    "\n",
    "# Returns the average of the green-channel pictures for the images\n",
    "def ft3(image):\n",
    "    return [np.mean(image, axis=(0, 1))[0]]\n",
    "\n",
    "# Returns the average of the blue-channel pictures for the images\n",
    "def ft4(image):\n",
    "    return [np.mean(image, axis=(0, 1))[1]]\n",
    "    \n",
    "# Returns the cornerHarris proportion\n",
    "def ft5(image):\n",
    "    gray = cv2.cvtColor(img,cv2.COLOR_BGR2GRAY)\n",
    "    gray = np.float32(gray)\n",
    "    dst = cv2.cornerHarris(gray,2,3,0.04)\n",
    "    return [(dst>0.01 * dst.max()).sum() / dst.size]\n",
    "\n",
    "# Returns the cornerHarris rank divided by max possible rank\n",
    "def ft6(image):\n",
    "    gray = cv2.cvtColor(img,cv2.COLOR_BGR2GRAY)\n",
    "    gray = np.float32(gray)\n",
    "    dst = cv2.cornerHarris(gray,2,3,0.04)\n",
    "    return [matrix_rank(dst) / min(dst.shape)]\n",
    "\n",
    "# Returns the X Y coordinate of the first 5 SIFT features\n",
    "def ft7(image):\n",
    "    gray = cv2.cvtColor(img,cv2.COLOR_BGR2GRAY)\n",
    "    sift = cv2.xfeatures2d.SIFT_create(nfeatures=5)\n",
    "    kps, descs = sift.detectAndCompute(gray, None)\n",
    "    pts = []\n",
    "    for i in range(len(kps)):\n",
    "        pts.append(kps[i].pt)\n",
    "    res = np.array(pts).flatten()\n",
    "    return np.pad(res, (0, max(0, 10 - len(res))))\n",
    "    \n",
    "\n",
    "# Returns the descriptors of the first 5 SIFT features\n",
    "def ft8(image):\n",
    "    gray = cv2.cvtColor(img,cv2.COLOR_BGR2GRAY)\n",
    "    sift = cv2.xfeatures2d.SIFT_create(nfeatures=5)\n",
    "    kps, descs = sift.detectAndCompute(gray, None)\n",
    "    if len(kps) == 0:\n",
    "        return np.zeros(10)\n",
    "    res = descs.flatten()\n",
    "    return np.pad(res, (0, max(0, 10 - len(res))))\n",
    "\n",
    "# Returns the X Y of the best 5 features to track\n",
    "def ft9(image):\n",
    "    gray = cv2.cvtColor(img,cv2.COLOR_BGR2GRAY)\n",
    "    corners = cv2.goodFeaturesToTrack(gray, 5, 0.01, 10)\n",
    "    corners = np.int0(corners)\n",
    "    res = corners.ravel()\n",
    "    return np.pad(res, (0, max(0, 10 - len(res))))\n",
    "\n",
    "# Returns the X Y coordinate of the best 5 ORB features\n",
    "def ft10(image):\n",
    "    orb  = cv2.ORB_create(nfeatures=5)\n",
    "    kps, descs = orb.detectAndCompute(image, None)\n",
    "    pts = []\n",
    "    for i in range(len(kps)):\n",
    "        pts.append(kps[i].pt)\n",
    "    res = np.array(pts).flatten()\n",
    "    return np.pad(res, (0, max(0, 10 - len(res))))\n",
    "\n",
    "# Returns the descriptors of the best 5 ORB features\n",
    "def ft11(image):\n",
    "    orb  = cv2.ORB_create(nfeatures=5)\n",
    "    kps, descs = orb.detectAndCompute(image, None)\n",
    "    if len(kps) == 0:\n",
    "        return np.zeros(10)\n",
    "    res = descs.flatten()\n",
    "    return np.pad(res, (0, max(0, 10 - len(res))))"
   ]
  },
  {
   "cell_type": "markdown",
   "metadata": {},
   "source": [
    " We expect all external sources sited, and significant indication of EDA. "
   ]
  },
  {
   "cell_type": "markdown",
   "metadata": {},
   "source": [
    "<h4> Graphs </h4>"
   ]
  },
  {
   "cell_type": "code",
   "execution_count": 51,
   "metadata": {},
   "outputs": [
    {
     "data": {
      "text/plain": [
       "1"
      ]
     },
     "execution_count": 51,
     "metadata": {},
     "output_type": "execute_result"
    }
   ],
   "source": [
    "img = train['Pictures'][222]\n",
    "img = resize(img)\n",
    "orb  = cv2.ORB_create(nfeatures=5)\n",
    "kps, descs = orb.detectAndCompute(img, None)\n",
    "len(kps)"
   ]
  },
  {
   "cell_type": "markdown",
   "metadata": {},
   "source": [
    "<h4> Sources </h4>"
   ]
  },
  {
   "cell_type": "code",
   "execution_count": null,
   "metadata": {},
   "outputs": [],
   "source": []
  },
  {
   "cell_type": "markdown",
   "metadata": {},
   "source": [
    "<h4> DataFrame Creation </h4>"
   ]
  },
  {
   "cell_type": "code",
   "execution_count": 16,
   "metadata": {},
   "outputs": [],
   "source": [
    "def feature_frame(df):\n",
    "    X = pd.DataFrame()\n",
    "    pictures = df['Pictures']\n",
    "    for idx, img in enumerate(pictures):\n",
    "        if idx % 10 == 0:\n",
    "            print(idx)\n",
    "        row = []\n",
    "        row.extend(ft0(img))\n",
    "        row.extend(ft1(img))\n",
    "        img = resize(img)\n",
    "        row.extend(ft2(img))\n",
    "        row.extend(ft3(img))\n",
    "        row.extend(ft4(img))\n",
    "        row.extend(ft5(img))\n",
    "        row.extend(ft6(img))\n",
    "        row.extend(ft7(img))\n",
    "        row.extend(ft8(img))\n",
    "        row.extend(ft9(img))\n",
    "        row.extend(ft10(img))\n",
    "        row.extend(ft11(img))\n",
    "        series = pd.Series(row)\n",
    "        X = X.append(series, ignore_index=True)\n",
    "    return X"
   ]
  },
  {
   "cell_type": "code",
   "execution_count": 44,
   "metadata": {},
   "outputs": [
    {
     "data": {
      "text/plain": [
       "160"
      ]
     },
     "execution_count": 44,
     "metadata": {},
     "output_type": "execute_result"
    }
   ],
   "source": [
    "ft11(train.loc[222,'Pictures']).shape[0]\n",
    "ft11(train.loc[223,'Pictures']).shape[0]"
   ]
  },
  {
   "cell_type": "code",
   "execution_count": 35,
   "metadata": {},
   "outputs": [
    {
     "name": "stdout",
     "output_type": "stream",
     "text": [
      "0\n"
     ]
    },
    {
     "data": {
      "text/html": [
       "<div>\n",
       "<style scoped>\n",
       "    .dataframe tbody tr th:only-of-type {\n",
       "        vertical-align: middle;\n",
       "    }\n",
       "\n",
       "    .dataframe tbody tr th {\n",
       "        vertical-align: top;\n",
       "    }\n",
       "\n",
       "    .dataframe thead th {\n",
       "        text-align: right;\n",
       "    }\n",
       "</style>\n",
       "<table border=\"1\" class=\"dataframe\">\n",
       "  <thead>\n",
       "    <tr style=\"text-align: right;\">\n",
       "      <th></th>\n",
       "      <th>0</th>\n",
       "      <th>1</th>\n",
       "      <th>2</th>\n",
       "      <th>3</th>\n",
       "      <th>4</th>\n",
       "      <th>5</th>\n",
       "      <th>6</th>\n",
       "      <th>7</th>\n",
       "      <th>8</th>\n",
       "      <th>9</th>\n",
       "      <th>...</th>\n",
       "      <th>699</th>\n",
       "      <th>700</th>\n",
       "      <th>701</th>\n",
       "      <th>702</th>\n",
       "      <th>703</th>\n",
       "      <th>704</th>\n",
       "      <th>705</th>\n",
       "      <th>706</th>\n",
       "      <th>707</th>\n",
       "      <th>708</th>\n",
       "    </tr>\n",
       "  </thead>\n",
       "  <tbody>\n",
       "    <tr>\n",
       "      <th>0</th>\n",
       "      <td>538389.0</td>\n",
       "      <td>58.755515</td>\n",
       "      <td>65.793353</td>\n",
       "      <td>58.646816</td>\n",
       "      <td>60.742338</td>\n",
       "      <td>0.001868</td>\n",
       "      <td>0.097059</td>\n",
       "      <td>2.575972</td>\n",
       "      <td>328.519592</td>\n",
       "      <td>212.967575</td>\n",
       "      <td>...</td>\n",
       "      <td>NaN</td>\n",
       "      <td>NaN</td>\n",
       "      <td>NaN</td>\n",
       "      <td>NaN</td>\n",
       "      <td>NaN</td>\n",
       "      <td>NaN</td>\n",
       "      <td>NaN</td>\n",
       "      <td>NaN</td>\n",
       "      <td>NaN</td>\n",
       "      <td>NaN</td>\n",
       "    </tr>\n",
       "    <tr>\n",
       "      <th>1</th>\n",
       "      <td>391389.0</td>\n",
       "      <td>28.762423</td>\n",
       "      <td>37.363463</td>\n",
       "      <td>28.642684</td>\n",
       "      <td>31.743316</td>\n",
       "      <td>0.001868</td>\n",
       "      <td>0.097059</td>\n",
       "      <td>2.575972</td>\n",
       "      <td>328.519592</td>\n",
       "      <td>212.967575</td>\n",
       "      <td>...</td>\n",
       "      <td>237.0</td>\n",
       "      <td>210.0</td>\n",
       "      <td>172.0</td>\n",
       "      <td>221.0</td>\n",
       "      <td>39.0</td>\n",
       "      <td>246.0</td>\n",
       "      <td>86.0</td>\n",
       "      <td>228.0</td>\n",
       "      <td>70.0</td>\n",
       "      <td>241.0</td>\n",
       "    </tr>\n",
       "  </tbody>\n",
       "</table>\n",
       "<p>2 rows × 709 columns</p>\n",
       "</div>"
      ],
      "text/plain": [
       "        0          1          2          3          4         5         6    \\\n",
       "0  538389.0  58.755515  65.793353  58.646816  60.742338  0.001868  0.097059   \n",
       "1  391389.0  28.762423  37.363463  28.642684  31.743316  0.001868  0.097059   \n",
       "\n",
       "        7           8           9    ...      699    700    701    702   703  \\\n",
       "0  2.575972  328.519592  212.967575  ...      NaN    NaN    NaN    NaN   NaN   \n",
       "1  2.575972  328.519592  212.967575  ...    237.0  210.0  172.0  221.0  39.0   \n",
       "\n",
       "     704   705    706   707    708  \n",
       "0    NaN   NaN    NaN   NaN    NaN  \n",
       "1  246.0  86.0  228.0  70.0  241.0  \n",
       "\n",
       "[2 rows x 709 columns]"
      ]
     },
     "execution_count": 35,
     "metadata": {},
     "output_type": "execute_result"
    }
   ],
   "source": [
    "feature_frame(train.loc[222:223,:])"
   ]
  },
  {
   "cell_type": "code",
   "execution_count": 101,
   "metadata": {},
   "outputs": [
    {
     "name": "stdout",
     "output_type": "stream",
     "text": [
      "0\n",
      "10\n",
      "20\n",
      "30\n",
      "40\n",
      "50\n",
      "60\n",
      "70\n",
      "80\n",
      "90\n",
      "100\n",
      "110\n",
      "120\n",
      "130\n",
      "140\n",
      "150\n",
      "160\n",
      "170\n",
      "180\n",
      "190\n",
      "200\n",
      "210\n",
      "220\n",
      "230\n",
      "240\n",
      "250\n",
      "260\n",
      "270\n",
      "280\n",
      "290\n",
      "300\n",
      "310\n",
      "320\n",
      "330\n",
      "340\n",
      "350\n",
      "360\n",
      "370\n",
      "380\n",
      "390\n",
      "400\n",
      "410\n",
      "420\n",
      "430\n",
      "440\n",
      "450\n",
      "460\n",
      "470\n",
      "480\n",
      "490\n",
      "500\n",
      "510\n",
      "520\n",
      "530\n",
      "540\n",
      "550\n",
      "560\n",
      "570\n",
      "580\n",
      "590\n",
      "600\n",
      "610\n",
      "620\n",
      "630\n",
      "640\n",
      "650\n",
      "660\n",
      "670\n",
      "680\n",
      "690\n",
      "700\n",
      "710\n",
      "720\n",
      "730\n",
      "740\n",
      "750\n",
      "760\n",
      "770\n",
      "780\n",
      "790\n",
      "800\n",
      "810\n",
      "820\n",
      "830\n",
      "840\n",
      "850\n",
      "860\n",
      "870\n",
      "880\n",
      "890\n",
      "900\n",
      "910\n",
      "920\n",
      "930\n",
      "940\n",
      "950\n",
      "960\n",
      "970\n",
      "980\n",
      "990\n",
      "1000\n",
      "1010\n",
      "1020\n",
      "1030\n",
      "1040\n",
      "1050\n",
      "1060\n",
      "1070\n",
      "1080\n",
      "1090\n",
      "1100\n",
      "1110\n",
      "1120\n",
      "1130\n",
      "1140\n",
      "1150\n",
      "1160\n",
      "1170\n",
      "1180\n",
      "1190\n",
      "1200\n",
      "1210\n",
      "1220\n",
      "1230\n",
      "1240\n",
      "1250\n",
      "1260\n",
      "1270\n",
      "1280\n",
      "1290\n",
      "1300\n",
      "1310\n",
      "1320\n",
      "1330\n",
      "1340\n",
      "1350\n",
      "1360\n",
      "1370\n",
      "1380\n",
      "1390\n",
      "1400\n",
      "1410\n",
      "1420\n",
      "1430\n",
      "1440\n",
      "1450\n",
      "1460\n",
      "1470\n",
      "1480\n",
      "1490\n",
      "1500\n"
     ]
    }
   ],
   "source": [
    "X_train = feature_frame(train)\n",
    "y_train = train['Encoding']"
   ]
  },
  {
   "cell_type": "code",
   "execution_count": 102,
   "metadata": {},
   "outputs": [
    {
     "name": "stdout",
     "output_type": "stream",
     "text": [
      "Stored 'X_train' (DataFrame)\n",
      "Stored 'y_train' (Series)\n"
     ]
    }
   ],
   "source": [
    "%store X_train\n",
    "%store y_train"
   ]
  },
  {
   "cell_type": "code",
   "execution_count": null,
   "metadata": {},
   "outputs": [],
   "source": []
  }
 ],
 "metadata": {
  "kernelspec": {
   "display_name": "Python 3",
   "language": "python",
   "name": "python3"
  },
  "language_info": {
   "codemirror_mode": {
    "name": "ipython",
    "version": 3
   },
   "file_extension": ".py",
   "mimetype": "text/x-python",
   "name": "python",
   "nbconvert_exporter": "python",
   "pygments_lexer": "ipython3",
   "version": "3.6.9"
  }
 },
 "nbformat": 4,
 "nbformat_minor": 2
}
