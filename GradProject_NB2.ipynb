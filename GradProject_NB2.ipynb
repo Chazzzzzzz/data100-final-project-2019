{
 "cells": [
  {
   "cell_type": "markdown",
   "metadata": {},
   "source": [
    "<h1> DS200A Computer Vision Assignment</h1>"
   ]
  },
  {
   "cell_type": "markdown",
   "metadata": {},
   "source": [
    "<h2>  Part Two: Exploratory data analysis and feature extraction. </h2>\t\n"
   ]
  },
  {
   "cell_type": "markdown",
   "metadata": {},
   "source": [
    "<h5> In this section, Compute at least 15 such image features (a method for each), including the following (NOTE: At least 10 of these must be scalar features and 2 matrix-based features): (i) image size, (ii) average of the red-channel intensity, (iii) aspectratio. This will require significant explatoratory research and data analysis. The first one is already implemented for you, and the next two are pre-specified. Additional requirements specfied in pdf. </h5>"
   ]
  },
  {
   "cell_type": "code",
   "execution_count": 1,
   "metadata": {},
   "outputs": [],
   "source": [
    "%store -r train\n",
    "%store -r test"
   ]
  },
  {
   "cell_type": "code",
   "execution_count": 2,
   "metadata": {},
   "outputs": [],
   "source": [
    "%matplotlib inline\n",
    "import matplotlib.pyplot as plt\n",
    "from numpy.linalg import matrix_rank\n",
    "import numpy as np\n",
    "import cv2\n",
    "from matplotlib import pyplot as plt\n",
    "import pandas as pd"
   ]
  },
  {
   "cell_type": "code",
   "execution_count": 3,
   "metadata": {},
   "outputs": [
    {
     "data": {
      "text/plain": [
       "3.0"
      ]
     },
     "execution_count": 3,
     "metadata": {},
     "output_type": "execute_result"
    }
   ],
   "source": [
    "shape1 = []\n",
    "for i in range(train.shape[0]):\n",
    "    shape1.append(train['Pictures'][i].shape[2])\n",
    "np.mean(shape1)"
   ]
  },
  {
   "cell_type": "code",
   "execution_count": 4,
   "metadata": {},
   "outputs": [],
   "source": [
    "# Returns the pixel size of the image\n",
    "def ft0(image):\n",
    "    return image.size\n",
    "\n",
    "#Returns the aspect ratio of the image\n",
    "def ft1(image):\n",
    "    return image.shape[0] / image.shape[1]\n",
    "\n",
    "def resize(image):\n",
    "    return cv2.resize(image, (400, 340))\n",
    "\n",
    "# Returns the average of the red-channel pictures for the images\n",
    "def ft2(image):\n",
    "    return np.mean(image, axis=(0, 1))[2]\n",
    "\n",
    "# Returns the average of the green-channel pictures for the images\n",
    "def ft3(image):\n",
    "    return np.mean(image, axis=(0, 1))[0]\n",
    "\n",
    "# Returns the average of the blue-channel pictures for the images\n",
    "def ft4(image):\n",
    "    return np.mean(image, axis=(0, 1))[1]\n",
    "    \n",
    "# Returns the cornerHarris proportion\n",
    "def ft5(image):\n",
    "    gray = cv2.cvtColor(img,cv2.COLOR_BGR2GRAY)\n",
    "    gray = np.float32(gray)\n",
    "    dst = cv2.cornerHarris(gray,2,3,0.04)\n",
    "    return (dst>0.01 * dst.max()).sum() / tmp.size\n",
    "\n",
    "# Returns the cornerHarris rank divided by max possible rank\n",
    "def ft6(image):\n",
    "    gray = cv2.cvtColor(img,cv2.COLOR_BGR2GRAY)\n",
    "    gray = np.float32(gray)\n",
    "    dst = cv2.cornerHarris(gray,2,3,0.04)\n",
    "    return matrix_rank(dst) / min(dst.shape)\n",
    "\n",
    "# Returns the first 5 SIFT X and Y coordinate\n",
    "def ft7(image):\n",
    "    gray = cv2.cvtColor(img,cv2.COLOR_BGR2GRAY)\n",
    "    sift = cv2.xfeatures2d.SIFT_create(nfeatures=5)\n",
    "    kps, descs = sift.detectAndCompute(gray, None)\n",
    "    pts = []\n",
    "    for i in range(5):\n",
    "        pts.append(kps[i].pt)\n",
    "    return np.array(pts).flatten()\n",
    "\n",
    "# Returns the X, Y of the best 5 features to track\n",
    "def ft8(image):\n",
    "    gray = cv2.cvtColor(img,cv2.COLOR_BGR2GRAY)\n",
    "    corners = cv2.goodFeaturesToTrack(gray, 5, 0.01, 10)\n",
    "    corners = np.int0(corners)\n",
    "    return corners.ravel()\n",
    "\n",
    "# Returns the X,Y of "
   ]
  },
  {
   "cell_type": "code",
   "execution_count": 5,
   "metadata": {},
   "outputs": [
    {
     "data": {
      "text/plain": [
       "array([[ 67, 199, 391, ..., 220,  15, 217],\n",
       "       [302,   0,   2, ...,   6,   5,  44],\n",
       "       [325,   0,   2, ..., 165,   5,   6],\n",
       "       [ 63, 399, 377, ..., 139, 177, 176]])"
      ]
     },
     "execution_count": 5,
     "metadata": {},
     "output_type": "execute_result"
    }
   ],
   "source": [
    "img = train['Pictures'][191]\n",
    "img = resize(img)\n",
    "\n",
    "gray = cv2.cvtColor(img,cv2.COLOR_BGR2GRAY)\n",
    "gray = np.float32(gray)\n",
    "dst = cv2.cornerHarris(gray,2,3,0.04)\n",
    "index=np.unravel_index(np.argmax(dst), dst.shape)\n",
    "#img[index]=(255,255,255)\n",
    "ind = np.argpartition(dst, -4)[-4:]\n",
    "#cv2.circle(img, index, 10, (255,255,255), 4)\n",
    "#plt.imshow(img)\n",
    "ind"
   ]
  },
  {
   "cell_type": "code",
   "execution_count": null,
   "metadata": {},
   "outputs": [],
   "source": [
    "X = pd.DataFrame()\n",
    "\n",
    "img = train['Pictures'][1000]\n",
    "img = np.copy(img)\n",
    "img = cv2.resize(img, (400, 340))\n",
    "gray= cv2.cvtColor(img,cv2.COLOR_RGB2GRAY)\n",
    "orb = cv2.ORB()\n",
    "kp=orb.detect(gray, None)"
   ]
  },
  {
   "cell_type": "markdown",
   "metadata": {},
   "source": [
    " We expect all external sources sited, and significant indication of EDA. "
   ]
  },
  {
   "cell_type": "markdown",
   "metadata": {},
   "source": [
    "<h4> Graphs </h4>"
   ]
  },
  {
   "cell_type": "code",
   "execution_count": null,
   "metadata": {},
   "outputs": [],
   "source": []
  },
  {
   "cell_type": "markdown",
   "metadata": {},
   "source": [
    "<h4> Sources </h4>"
   ]
  },
  {
   "cell_type": "code",
   "execution_count": null,
   "metadata": {},
   "outputs": [],
   "source": []
  },
  {
   "cell_type": "markdown",
   "metadata": {},
   "source": [
    "<h4> DataFrame Creation </h4>"
   ]
  },
  {
   "cell_type": "code",
   "execution_count": null,
   "metadata": {},
   "outputs": [],
   "source": [
    "def feature_frame(df):\n",
    "    return df\n",
    "    #Returns data-frame with all the features now inside, and calculated\n"
   ]
  },
  {
   "cell_type": "code",
   "execution_count": null,
   "metadata": {},
   "outputs": [],
   "source": [
    "feature_frame(data_from_nb1)"
   ]
  },
  {
   "cell_type": "code",
   "execution_count": null,
   "metadata": {},
   "outputs": [],
   "source": []
  }
 ],
 "metadata": {
  "kernelspec": {
   "display_name": "Python 3",
   "language": "python",
   "name": "python3"
  },
  "language_info": {
   "codemirror_mode": {
    "name": "ipython",
    "version": 3
   },
   "file_extension": ".py",
   "mimetype": "text/x-python",
   "name": "python",
   "nbconvert_exporter": "python",
   "pygments_lexer": "ipython3",
   "version": "3.6.9"
  }
 },
 "nbformat": 4,
 "nbformat_minor": 2
}
