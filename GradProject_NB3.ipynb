{
 "cells": [
  {
   "cell_type": "markdown",
   "metadata": {},
   "source": [
    "\n",
    "<h1> DS200A Computer Vision Assignment</h1>"
   ]
  },
  {
   "cell_type": "markdown",
   "metadata": {},
   "source": [
    "<h2>  Part Three: Classifier training and performance assessment. </h2>\t"
   ]
  },
  {
   "cell_type": "code",
   "execution_count": 1,
   "metadata": {},
   "outputs": [
    {
     "name": "stdout",
     "output_type": "stream",
     "text": [
      "Requirement already satisfied: numpy in /usr/local/Cellar/jupyterlab/1.2.3/libexec/lib/python3.7/site-packages (1.17.4)\n",
      "Requirement already satisfied: matplotlib in /usr/local/Cellar/jupyterlab/1.2.3/libexec/lib/python3.7/site-packages (3.1.2)\n",
      "Requirement already satisfied: pandas in /usr/local/Cellar/jupyterlab/1.2.3/libexec/lib/python3.7/site-packages (0.25.3)\n",
      "Requirement already satisfied: scikit-image in /usr/local/Cellar/jupyterlab/1.2.3/libexec/lib/python3.7/site-packages (0.16.2)\n",
      "Requirement already satisfied: opencv-python==3.4.2.16 in /usr/local/Cellar/jupyterlab/1.2.3/libexec/lib/python3.7/site-packages (3.4.2.16)\n",
      "Requirement already satisfied: opencv-contrib-python==3.4.2.16 in /usr/local/Cellar/jupyterlab/1.2.3/libexec/lib/python3.7/site-packages (3.4.2.16)\n",
      "Requirement already satisfied: kiwisolver>=1.0.1 in /usr/local/Cellar/jupyterlab/1.2.3/libexec/lib/python3.7/site-packages (from matplotlib) (1.1.0)\n",
      "Requirement already satisfied: cycler>=0.10 in /usr/local/Cellar/jupyterlab/1.2.3/libexec/lib/python3.7/site-packages (from matplotlib) (0.10.0)\n",
      "Requirement already satisfied: python-dateutil>=2.1 in /usr/local/Cellar/jupyterlab/1.2.3/libexec/lib/python3.7/site-packages (from matplotlib) (2.8.0)\n",
      "Requirement already satisfied: pyparsing!=2.0.4,!=2.1.2,!=2.1.6,>=2.0.1 in /usr/local/Cellar/jupyterlab/1.2.3/libexec/lib/python3.7/site-packages (from matplotlib) (2.4.5)\n",
      "Requirement already satisfied: pytz>=2017.2 in /usr/local/Cellar/jupyterlab/1.2.3/libexec/lib/python3.7/site-packages (from pandas) (2019.3)\n",
      "Requirement already satisfied: PyWavelets>=0.4.0 in /usr/local/Cellar/jupyterlab/1.2.3/libexec/lib/python3.7/site-packages (from scikit-image) (1.1.1)\n",
      "Requirement already satisfied: networkx>=2.0 in /usr/local/Cellar/jupyterlab/1.2.3/libexec/lib/python3.7/site-packages (from scikit-image) (2.4)\n",
      "Requirement already satisfied: scipy>=0.19.0 in /usr/local/Cellar/jupyterlab/1.2.3/libexec/lib/python3.7/site-packages (from scikit-image) (1.3.3)\n",
      "Requirement already satisfied: imageio>=2.3.0 in /usr/local/Cellar/jupyterlab/1.2.3/libexec/lib/python3.7/site-packages (from scikit-image) (2.6.1)\n",
      "Requirement already satisfied: pillow>=4.3.0 in /usr/local/Cellar/jupyterlab/1.2.3/libexec/lib/python3.7/site-packages (from scikit-image) (6.2.1)\n",
      "Requirement already satisfied: setuptools in /usr/local/Cellar/jupyterlab/1.2.3/libexec/lib/python3.7/site-packages (from kiwisolver>=1.0.1->matplotlib) (42.0.1)\n",
      "Requirement already satisfied: six in /usr/local/Cellar/jupyterlab/1.2.3/libexec/lib/python3.7/site-packages (from cycler>=0.10->matplotlib) (1.12.0)\n",
      "Requirement already satisfied: decorator>=4.3.0 in /usr/local/Cellar/jupyterlab/1.2.3/libexec/lib/python3.7/site-packages (from networkx>=2.0->scikit-image) (4.4.1)\n",
      "Note: you may need to restart the kernel to use updated packages.\n"
     ]
    }
   ],
   "source": [
    "pip install numpy matplotlib pandas scikit-image opencv-python==3.4.2.16  opencv-contrib-python==3.4.2.16"
   ]
  },
  {
   "cell_type": "code",
   "execution_count": 2,
   "metadata": {},
   "outputs": [],
   "source": [
    "# read data\n",
    "%store -r X_train\n",
    "%store -r y_train\n",
    "%store -r X_vali"
   ]
  },
  {
   "cell_type": "code",
   "execution_count": 3,
   "metadata": {},
   "outputs": [],
   "source": [
    "from sklearn.model_selection import train_test_split\n",
    "import pandas as pd\n",
    "from sklearn.model_selection import cross_val_score\n",
    "def train_test_split_(df):\n",
    "    X_train_, X_test_ = train_test_split(df, train_size=0.8, random_state=41)\n",
    "    return X_train_, X_test_\n",
    "#Split the data into a training set, and test set \n",
    "def accuracy(pred, actual):\n",
    "    return (pred == actual).sum() / len(actual)\n",
    "# Calculate the accuracy percentage of the predicted values"
   ]
  },
  {
   "cell_type": "markdown",
   "metadata": {},
   "source": [
    "<h3>  Train models using all of the following methods below. Be sure to drop the actual image column, and the encoding</h3>\tTake note of the differences in accuracy, and methods.\n"
   ]
  },
  {
   "cell_type": "code",
   "execution_count": 4,
   "metadata": {},
   "outputs": [],
   "source": [
    "from sklearn import preprocessing\n",
    "import numpy as np\n",
    "\n",
    "X_train = pd.DataFrame(X_train)\n",
    "\n",
    "\n",
    "X_train['y'] = y_train\n",
    "X_train_, X_test_ = train_test_split_(X_train)\n",
    "\n",
    "y_train_ = X_train_['y']\n",
    "y_test_ = X_test_['y']\n",
    "X_train_ = X_train_.drop('y', 1)\n",
    "X_test_ = X_test_.drop('y', 1)\n"
   ]
  },
  {
   "cell_type": "markdown",
   "metadata": {},
   "source": [
    "Logistic Regression"
   ]
  },
  {
   "cell_type": "code",
   "execution_count": 5,
   "metadata": {},
   "outputs": [
    {
     "data": {
      "text/plain": [
       "0.32833333333333325"
      ]
     },
     "execution_count": 5,
     "metadata": {},
     "output_type": "execute_result"
    }
   ],
   "source": [
    "from sklearn.linear_model import LogisticRegression\n",
    "model1 = LogisticRegression(max_iter=10000).fit(X_train_, y_train_)\n",
    "cross_val_score(model1, X_train_, y_train_, cv=5).mean()"
   ]
  },
  {
   "cell_type": "code",
   "execution_count": 6,
   "metadata": {},
   "outputs": [
    {
     "name": "stdout",
     "output_type": "stream",
     "text": [
      "train: 0.3458333333333333\n",
      "test: 0.30564784053156147\n"
     ]
    }
   ],
   "source": [
    "print(\"train: %s\" % accuracy(model1.predict(X_train_), y_train_))\n",
    "print(\"test: %s\" % accuracy(model1.predict(X_test_), y_test_))"
   ]
  },
  {
   "cell_type": "markdown",
   "metadata": {},
   "source": [
    "K-nearest Neighbors"
   ]
  },
  {
   "cell_type": "code",
   "execution_count": 7,
   "metadata": {},
   "outputs": [
    {
     "data": {
      "text/plain": [
       "0.20250000000000004"
      ]
     },
     "execution_count": 7,
     "metadata": {},
     "output_type": "execute_result"
    }
   ],
   "source": [
    "from sklearn.neighbors import KNeighborsClassifier\n",
    "model2 = KNeighborsClassifier().fit(X_train_, y_train_)\n",
    "cross_val_score(model2, X_train_, y_train_, cv=5).mean()"
   ]
  },
  {
   "cell_type": "code",
   "execution_count": 8,
   "metadata": {},
   "outputs": [
    {
     "name": "stdout",
     "output_type": "stream",
     "text": [
      "train: 0.4125\n",
      "test: 0.19933554817275748\n"
     ]
    }
   ],
   "source": [
    "print(\"train: %s\" % accuracy(model2.predict(X_train_), y_train_))\n",
    "print(\"test: %s\" % accuracy(model2.predict(X_test_), y_test_))"
   ]
  },
  {
   "cell_type": "markdown",
   "metadata": {},
   "source": [
    "Classification Tree"
   ]
  },
  {
   "cell_type": "code",
   "execution_count": 9,
   "metadata": {},
   "outputs": [
    {
     "data": {
      "text/plain": [
       "0.2975"
      ]
     },
     "execution_count": 9,
     "metadata": {},
     "output_type": "execute_result"
    }
   ],
   "source": [
    "from sklearn.tree import DecisionTreeClassifier\n",
    "model3 = DecisionTreeClassifier().fit(X_train_, y_train_)\n",
    "cross_val_score(model3, X_train_, y_train_, cv=5).mean()"
   ]
  },
  {
   "cell_type": "code",
   "execution_count": 10,
   "metadata": {},
   "outputs": [
    {
     "name": "stdout",
     "output_type": "stream",
     "text": [
      "train: 1.0\n",
      "test: 0.3388704318936877\n"
     ]
    }
   ],
   "source": [
    "print(\"train: %s\" % accuracy(model3.predict(X_train_), y_train_))\n",
    "print(\"test: %s\" % accuracy(model3.predict(X_test_), y_test_))"
   ]
  },
  {
   "cell_type": "markdown",
   "metadata": {},
   "source": [
    "Random Forest"
   ]
  },
  {
   "cell_type": "code",
   "execution_count": 11,
   "metadata": {},
   "outputs": [
    {
     "data": {
      "text/plain": [
       "0.39249999999999996"
      ]
     },
     "execution_count": 11,
     "metadata": {},
     "output_type": "execute_result"
    }
   ],
   "source": [
    "from sklearn.ensemble import RandomForestClassifier\n",
    "model4 = RandomForestClassifier().fit(X_train_, y_train_)\n",
    "cross_val_score(model4, X_train_, y_train_, cv=5).mean()"
   ]
  },
  {
   "cell_type": "code",
   "execution_count": 12,
   "metadata": {},
   "outputs": [
    {
     "name": "stdout",
     "output_type": "stream",
     "text": [
      "train: 1.0\n",
      "test: 0.40863787375415284\n"
     ]
    }
   ],
   "source": [
    "print(\"train: %s\" % accuracy(model4.predict(X_train_), y_train_))\n",
    "print(\"test: %s\" % accuracy(model4.predict(X_test_), y_test_))"
   ]
  },
  {
   "cell_type": "markdown",
   "metadata": {},
   "source": [
    "Support Vector Machine"
   ]
  },
  {
   "cell_type": "code",
   "execution_count": 13,
   "metadata": {},
   "outputs": [
    {
     "data": {
      "text/plain": [
       "0.15999999999999998"
      ]
     },
     "execution_count": 13,
     "metadata": {},
     "output_type": "execute_result"
    }
   ],
   "source": [
    "from sklearn.svm import SVC\n",
    "model5 = SVC().fit(X_train_, y_train_)\n",
    "cross_val_score(model5, X_train_, y_train_, cv=5).mean()"
   ]
  },
  {
   "cell_type": "code",
   "execution_count": 14,
   "metadata": {},
   "outputs": [
    {
     "name": "stdout",
     "output_type": "stream",
     "text": [
      "train: 0.16916666666666666\n",
      "test: 0.14950166112956811\n"
     ]
    }
   ],
   "source": [
    "print(\"train: %s\" % accuracy(model5.predict(X_train_), y_train_))\n",
    "print(\"test: %s\" % accuracy(model5.predict(X_test_), y_test_))"
   ]
  },
  {
   "cell_type": "code",
   "execution_count": null,
   "metadata": {},
   "outputs": [],
   "source": []
  },
  {
   "cell_type": "code",
   "execution_count": 15,
   "metadata": {},
   "outputs": [],
   "source": [
    "prediction = model4.predict(X_vali)\n",
    "np.savetxt(\"prediction.csv\", prediction, fmt='%d')"
   ]
  },
  {
   "cell_type": "code",
   "execution_count": null,
   "metadata": {},
   "outputs": [],
   "source": []
  }
 ],
 "metadata": {
  "kernelspec": {
   "display_name": "Python 3",
   "language": "python",
   "name": "python3"
  },
  "language_info": {
   "codemirror_mode": {
    "name": "ipython",
    "version": 3
   },
   "file_extension": ".py",
   "mimetype": "text/x-python",
   "name": "python",
   "nbconvert_exporter": "python",
   "pygments_lexer": "ipython3",
   "version": "3.7.5"
  }
 },
 "nbformat": 4,
 "nbformat_minor": 2
}
